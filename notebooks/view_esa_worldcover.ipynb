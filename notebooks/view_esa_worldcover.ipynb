{
 "cells": [
  {
   "cell_type": "code",
   "execution_count": null,
   "metadata": {},
   "outputs": [],
   "source": [
    "import pystac_client\n",
    "from odc import stac as odc_stac\n",
    "import numpy as np\n",
    "import hvplot.xarray # noqa\n",
    "import os\n",
    "import matplotlib as mpl\n",
    "from bokeh.models import CategoricalColorMapper, ColorBar"
   ]
  },
  {
   "cell_type": "code",
   "execution_count": null,
   "metadata": {},
   "outputs": [],
   "source": [
    "os.environ[\"AWS_NO_SIGN_REQUEST\"] = \"YES\""
   ]
  },
  {
   "cell_type": "code",
   "execution_count": null,
   "metadata": {},
   "outputs": [],
   "source": [
    "chunks = {\"time\": 1, \"latitude\": 1300, \"longitude\": 1300}"
   ]
  },
  {
   "cell_type": "code",
   "execution_count": null,
   "metadata": {},
   "outputs": [],
   "source": [
    "crs = \"EPSG:4326\"\n",
    "res = 1 / 12000  # 10 meter in degree"
   ]
  },
  {
   "cell_type": "code",
   "execution_count": null,
   "metadata": {},
   "outputs": [],
   "source": [
    "time_range = \"2022-10-11/2022-10-25\"\n",
    "minlon, maxlon = 12.3, 13.1\n",
    "minlat, maxlat = 54.3, 54.6\n",
    "bounding_box = [minlon, minlat, maxlon, maxlat]"
   ]
  },
  {
   "cell_type": "code",
   "execution_count": null,
   "metadata": {},
   "outputs": [],
   "source": [
    "uri = \"https://services.terrascope.be/stac/\"\n",
    "wcover_catalog = pystac_client.Client.open(uri)"
   ]
  },
  {
   "cell_type": "code",
   "execution_count": null,
   "metadata": {},
   "outputs": [],
   "source": [
    "search = wcover_catalog.search(\n",
    "    collections=\"urn:eop:VITO:ESA_WorldCover_10m_2021_AWS_V2\",\n",
    "    bbox=bounding_box,\n",
    ")\n",
    "\n",
    "items_wcover = search.item_collection()"
   ]
  },
  {
   "cell_type": "code",
   "execution_count": null,
   "metadata": {},
   "outputs": [],
   "source": [
    "wcover_dc = (\n",
    "    odc_stac.load(\n",
    "        items_wcover,\n",
    "        crs=crs,\n",
    "        chunks=chunks,\n",
    "        resolution=res,\n",
    "        bbox=bounding_box,\n",
    "    )\n",
    "    .squeeze(\"time\")\n",
    "    .drop_vars(\"time\")\n",
    "    .rename_vars({\"ESA_WORLDCOVER_10M_MAP\": \"wcover\"})\n",
    ")\n",
    "wcover_dc"
   ]
  },
  {
   "cell_type": "code",
   "execution_count": null,
   "metadata": {},
   "outputs": [],
   "source": [
    "cmap = mpl.colors.ListedColormap(\n",
    "    [\n",
    "        np.array([0, 0, 0]) / 255,\n",
    "        np.array([0, 100, 0]) / 255,\n",
    "        np.array([255, 187, 34]) / 255,\n",
    "        np.array([255, 255, 76]) / 255,\n",
    "        np.array([240, 150, 255]) / 255,\n",
    "        np.array([250, 0, 0]) / 255,\n",
    "        np.array([180, 180, 180]) / 255,\n",
    "        np.array([240, 240, 240]) / 255,\n",
    "        np.array([0, 100, 200]) / 255,\n",
    "        np.array([0, 150, 160]) / 255,\n",
    "        np.array([0, 207, 117]) / 255,\n",
    "        np.array([250, 230, 160]) / 255,\n",
    "    ]\n",
    ")\n",
    "bounds = [-5, 5, 15, 25, 35, 45, 55, 65, 75, 85, 92, 98, 105]\n",
    "norm = mpl.colors.BoundaryNorm(np.array(bounds), cmap.N)\n",
    "cblabels = [\n",
    "    \"no data\",\n",
    "    \"tree cover\",\n",
    "    \"shrubland\",\n",
    "    \"grassland\",\n",
    "    \"cropland\",\n",
    "    \"built up\",\n",
    "    \"bare/sparse vegetation\",\n",
    "    \"snow and ice\",\n",
    "    \"permanent water bodies\",\n",
    "    \"herbaceous wetland\",\n",
    "    \"mangroves\",\n",
    "    \"moss and lichen\",\n",
    "]"
   ]
  },
  {
   "cell_type": "code",
   "execution_count": null,
   "metadata": {},
   "outputs": [],
   "source": [
    "im = wcover_dc.wcover.plot.imshow(\n",
    "    cmap=cmap,\n",
    "    norm=norm,\n",
    "    aspect=1.2,\n",
    "    size=10,\n",
    "    cbar_kwargs={\n",
    "        \"ticks\": [0, 10, 20, 30, 40, 50, 60, 70, 80, 88.5, 95, 101.5],\n",
    "        \"spacing\": \"proportional\",\n",
    "    },\n",
    ")\n",
    "cb = im.colorbar\n",
    "cb.set_ticklabels(cblabels)"
   ]
  },
  {
   "cell_type": "code",
   "execution_count": null,
   "metadata": {},
   "outputs": [],
   "source": [
    "# https://discourse.holoviz.org/t/custom-discrete-colormaps/2183/15\n",
    "def cbar_hook(hv_plot, _):\n",
    "    plot = hv_plot.handles[\"plot\"]\n",
    "    factors = cblabels\n",
    "    mapper = CategoricalColorMapper(\n",
    "        palette=[mpl.colors.to_hex(i) for i in cmap.colors],\n",
    "        factors=factors,\n",
    "    )\n",
    "    color_bar = ColorBar(color_mapper=mapper)\n",
    "    plot.right[0] = color_bar\n",
    "\n",
    "\n",
    "wcover_dc.hvplot.image(x=\"longitude\", y=\"latitude\", rasterize=True).opts(\n",
    "    cmap=cmap,\n",
    "    color_levels=bounds,\n",
    "    clim=(bounds[0], bounds[-1]),\n",
    "    frame_height=600,\n",
    "    framewise=False,\n",
    "    aspect=\"equal\",\n",
    "    hooks=[cbar_hook],\n",
    ")"
   ]
  }
 ],
 "metadata": {
  "kernelspec": {
   "display_name": ".venv",
   "language": "python",
   "name": "python3"
  },
  "language_info": {
   "codemirror_mode": {
    "name": "ipython",
    "version": 3
   },
   "file_extension": ".py",
   "mimetype": "text/x-python",
   "name": "python",
   "nbconvert_exporter": "python",
   "pygments_lexer": "ipython3",
   "version": "3.12.2"
  }
 },
 "nbformat": 4,
 "nbformat_minor": 2
}
